{
 "cells": [
  {
   "cell_type": "code",
   "execution_count": 1,
   "id": "0a697053",
   "metadata": {},
   "outputs": [],
   "source": [
    "import pandas as pd\n",
    "import numpy as np\n",
    "import matplotlib.pyplot as plt\n",
    "import seaborn as sns"
   ]
  },
  {
   "cell_type": "code",
   "execution_count": 2,
   "id": "bb360539",
   "metadata": {},
   "outputs": [],
   "source": [
    "data = pd.read_csv(\"C:/Users/Mukesh/OneDrive/Desktop/MSC STATS SY/ML/Bengaluru_House_Data.csv\")"
   ]
  },
  {
   "cell_type": "code",
   "execution_count": 3,
   "id": "feafdf39",
   "metadata": {},
   "outputs": [
    {
     "data": {
      "text/html": [
       "<div>\n",
       "<style scoped>\n",
       "    .dataframe tbody tr th:only-of-type {\n",
       "        vertical-align: middle;\n",
       "    }\n",
       "\n",
       "    .dataframe tbody tr th {\n",
       "        vertical-align: top;\n",
       "    }\n",
       "\n",
       "    .dataframe thead th {\n",
       "        text-align: right;\n",
       "    }\n",
       "</style>\n",
       "<table border=\"1\" class=\"dataframe\">\n",
       "  <thead>\n",
       "    <tr style=\"text-align: right;\">\n",
       "      <th></th>\n",
       "      <th>area_type</th>\n",
       "      <th>availability</th>\n",
       "      <th>location</th>\n",
       "      <th>size</th>\n",
       "      <th>society</th>\n",
       "      <th>total_sqft</th>\n",
       "      <th>bath</th>\n",
       "      <th>balcony</th>\n",
       "      <th>price</th>\n",
       "    </tr>\n",
       "  </thead>\n",
       "  <tbody>\n",
       "    <tr>\n",
       "      <th>0</th>\n",
       "      <td>Super built-up  Area</td>\n",
       "      <td>19-Dec</td>\n",
       "      <td>Electronic City Phase II</td>\n",
       "      <td>2 BHK</td>\n",
       "      <td>Coomee</td>\n",
       "      <td>1056</td>\n",
       "      <td>2.0</td>\n",
       "      <td>1.0</td>\n",
       "      <td>39.07</td>\n",
       "    </tr>\n",
       "    <tr>\n",
       "      <th>1</th>\n",
       "      <td>Plot  Area</td>\n",
       "      <td>Ready To Move</td>\n",
       "      <td>Chikka Tirupathi</td>\n",
       "      <td>4 Bedroom</td>\n",
       "      <td>Theanmp</td>\n",
       "      <td>2600</td>\n",
       "      <td>5.0</td>\n",
       "      <td>3.0</td>\n",
       "      <td>120.00</td>\n",
       "    </tr>\n",
       "    <tr>\n",
       "      <th>2</th>\n",
       "      <td>Built-up  Area</td>\n",
       "      <td>Ready To Move</td>\n",
       "      <td>Uttarahalli</td>\n",
       "      <td>3 BHK</td>\n",
       "      <td>NaN</td>\n",
       "      <td>1440</td>\n",
       "      <td>2.0</td>\n",
       "      <td>3.0</td>\n",
       "      <td>62.00</td>\n",
       "    </tr>\n",
       "    <tr>\n",
       "      <th>3</th>\n",
       "      <td>Super built-up  Area</td>\n",
       "      <td>Ready To Move</td>\n",
       "      <td>Lingadheeranahalli</td>\n",
       "      <td>3 BHK</td>\n",
       "      <td>Soiewre</td>\n",
       "      <td>1521</td>\n",
       "      <td>3.0</td>\n",
       "      <td>1.0</td>\n",
       "      <td>95.00</td>\n",
       "    </tr>\n",
       "    <tr>\n",
       "      <th>4</th>\n",
       "      <td>Super built-up  Area</td>\n",
       "      <td>Ready To Move</td>\n",
       "      <td>Kothanur</td>\n",
       "      <td>2 BHK</td>\n",
       "      <td>NaN</td>\n",
       "      <td>1200</td>\n",
       "      <td>2.0</td>\n",
       "      <td>1.0</td>\n",
       "      <td>51.00</td>\n",
       "    </tr>\n",
       "  </tbody>\n",
       "</table>\n",
       "</div>"
      ],
      "text/plain": [
       "              area_type   availability                  location       size  \\\n",
       "0  Super built-up  Area         19-Dec  Electronic City Phase II      2 BHK   \n",
       "1            Plot  Area  Ready To Move          Chikka Tirupathi  4 Bedroom   \n",
       "2        Built-up  Area  Ready To Move               Uttarahalli      3 BHK   \n",
       "3  Super built-up  Area  Ready To Move        Lingadheeranahalli      3 BHK   \n",
       "4  Super built-up  Area  Ready To Move                  Kothanur      2 BHK   \n",
       "\n",
       "   society total_sqft  bath  balcony   price  \n",
       "0  Coomee        1056   2.0      1.0   39.07  \n",
       "1  Theanmp       2600   5.0      3.0  120.00  \n",
       "2      NaN       1440   2.0      3.0   62.00  \n",
       "3  Soiewre       1521   3.0      1.0   95.00  \n",
       "4      NaN       1200   2.0      1.0   51.00  "
      ]
     },
     "execution_count": 3,
     "metadata": {},
     "output_type": "execute_result"
    }
   ],
   "source": [
    "data.head()"
   ]
  },
  {
   "cell_type": "code",
   "execution_count": 4,
   "id": "7343b489",
   "metadata": {},
   "outputs": [
    {
     "name": "stdout",
     "output_type": "stream",
     "text": [
      "<class 'pandas.core.frame.DataFrame'>\n",
      "RangeIndex: 13320 entries, 0 to 13319\n",
      "Data columns (total 9 columns):\n",
      " #   Column        Non-Null Count  Dtype  \n",
      "---  ------        --------------  -----  \n",
      " 0   area_type     13320 non-null  object \n",
      " 1   availability  13320 non-null  object \n",
      " 2   location      13319 non-null  object \n",
      " 3   size          13304 non-null  object \n",
      " 4   society       7818 non-null   object \n",
      " 5   total_sqft    13320 non-null  object \n",
      " 6   bath          13247 non-null  float64\n",
      " 7   balcony       12711 non-null  float64\n",
      " 8   price         13320 non-null  float64\n",
      "dtypes: float64(3), object(6)\n",
      "memory usage: 936.7+ KB\n"
     ]
    }
   ],
   "source": [
    "data.info()"
   ]
  },
  {
   "cell_type": "code",
   "execution_count": 5,
   "id": "a79fb431",
   "metadata": {},
   "outputs": [
    {
     "data": {
      "text/plain": [
       "area_type          0\n",
       "availability       0\n",
       "location           1\n",
       "size              16\n",
       "society         5502\n",
       "total_sqft         0\n",
       "bath              73\n",
       "balcony          609\n",
       "price              0\n",
       "dtype: int64"
      ]
     },
     "execution_count": 5,
     "metadata": {},
     "output_type": "execute_result"
    }
   ],
   "source": [
    "data.isnull().sum()"
   ]
  },
  {
   "cell_type": "code",
   "execution_count": 6,
   "id": "0f286222",
   "metadata": {},
   "outputs": [],
   "source": [
    "data = data.drop(['balcony','society','availability'],axis=1)"
   ]
  },
  {
   "cell_type": "code",
   "execution_count": 7,
   "id": "47f06ee9",
   "metadata": {},
   "outputs": [
    {
     "data": {
      "text/html": [
       "<div>\n",
       "<style scoped>\n",
       "    .dataframe tbody tr th:only-of-type {\n",
       "        vertical-align: middle;\n",
       "    }\n",
       "\n",
       "    .dataframe tbody tr th {\n",
       "        vertical-align: top;\n",
       "    }\n",
       "\n",
       "    .dataframe thead th {\n",
       "        text-align: right;\n",
       "    }\n",
       "</style>\n",
       "<table border=\"1\" class=\"dataframe\">\n",
       "  <thead>\n",
       "    <tr style=\"text-align: right;\">\n",
       "      <th></th>\n",
       "      <th>area_type</th>\n",
       "      <th>location</th>\n",
       "      <th>size</th>\n",
       "      <th>total_sqft</th>\n",
       "      <th>bath</th>\n",
       "      <th>price</th>\n",
       "    </tr>\n",
       "  </thead>\n",
       "  <tbody>\n",
       "    <tr>\n",
       "      <th>0</th>\n",
       "      <td>Super built-up  Area</td>\n",
       "      <td>Electronic City Phase II</td>\n",
       "      <td>2 BHK</td>\n",
       "      <td>1056</td>\n",
       "      <td>2.0</td>\n",
       "      <td>39.07</td>\n",
       "    </tr>\n",
       "    <tr>\n",
       "      <th>1</th>\n",
       "      <td>Plot  Area</td>\n",
       "      <td>Chikka Tirupathi</td>\n",
       "      <td>4 Bedroom</td>\n",
       "      <td>2600</td>\n",
       "      <td>5.0</td>\n",
       "      <td>120.00</td>\n",
       "    </tr>\n",
       "    <tr>\n",
       "      <th>2</th>\n",
       "      <td>Built-up  Area</td>\n",
       "      <td>Uttarahalli</td>\n",
       "      <td>3 BHK</td>\n",
       "      <td>1440</td>\n",
       "      <td>2.0</td>\n",
       "      <td>62.00</td>\n",
       "    </tr>\n",
       "    <tr>\n",
       "      <th>3</th>\n",
       "      <td>Super built-up  Area</td>\n",
       "      <td>Lingadheeranahalli</td>\n",
       "      <td>3 BHK</td>\n",
       "      <td>1521</td>\n",
       "      <td>3.0</td>\n",
       "      <td>95.00</td>\n",
       "    </tr>\n",
       "    <tr>\n",
       "      <th>4</th>\n",
       "      <td>Super built-up  Area</td>\n",
       "      <td>Kothanur</td>\n",
       "      <td>2 BHK</td>\n",
       "      <td>1200</td>\n",
       "      <td>2.0</td>\n",
       "      <td>51.00</td>\n",
       "    </tr>\n",
       "  </tbody>\n",
       "</table>\n",
       "</div>"
      ],
      "text/plain": [
       "              area_type                  location       size total_sqft  bath  \\\n",
       "0  Super built-up  Area  Electronic City Phase II      2 BHK       1056   2.0   \n",
       "1            Plot  Area          Chikka Tirupathi  4 Bedroom       2600   5.0   \n",
       "2        Built-up  Area               Uttarahalli      3 BHK       1440   2.0   \n",
       "3  Super built-up  Area        Lingadheeranahalli      3 BHK       1521   3.0   \n",
       "4  Super built-up  Area                  Kothanur      2 BHK       1200   2.0   \n",
       "\n",
       "    price  \n",
       "0   39.07  \n",
       "1  120.00  \n",
       "2   62.00  \n",
       "3   95.00  \n",
       "4   51.00  "
      ]
     },
     "execution_count": 7,
     "metadata": {},
     "output_type": "execute_result"
    }
   ],
   "source": [
    "data.head()"
   ]
  },
  {
   "cell_type": "code",
   "execution_count": 8,
   "id": "6855d9e4",
   "metadata": {},
   "outputs": [
    {
     "data": {
      "text/plain": [
       "Whitefield                        540\n",
       "Sarjapur  Road                    399\n",
       "Electronic City                   302\n",
       "Kanakpura Road                    273\n",
       "Thanisandra                       234\n",
       "                                 ... \n",
       "Bapuji Layout                       1\n",
       "1st Stage Radha Krishna Layout      1\n",
       "BEML Layout 5th stage               1\n",
       "singapura paradise                  1\n",
       "Abshot Layout                       1\n",
       "Name: location, Length: 1305, dtype: int64"
      ]
     },
     "execution_count": 8,
     "metadata": {},
     "output_type": "execute_result"
    }
   ],
   "source": [
    "data['location'].value_counts()"
   ]
  },
  {
   "cell_type": "code",
   "execution_count": 9,
   "id": "f94c4013",
   "metadata": {},
   "outputs": [],
   "source": [
    "data['location']=data['location'].fillna('Sarjapur  Road')"
   ]
  },
  {
   "cell_type": "code",
   "execution_count": 10,
   "id": "d7ce6eaf",
   "metadata": {},
   "outputs": [
    {
     "data": {
      "text/plain": [
       "2 BHK         5199\n",
       "3 BHK         4310\n",
       "4 Bedroom      826\n",
       "4 BHK          591\n",
       "3 Bedroom      547\n",
       "1 BHK          538\n",
       "2 Bedroom      329\n",
       "5 Bedroom      297\n",
       "6 Bedroom      191\n",
       "1 Bedroom      105\n",
       "8 Bedroom       84\n",
       "7 Bedroom       83\n",
       "5 BHK           59\n",
       "9 Bedroom       46\n",
       "6 BHK           30\n",
       "7 BHK           17\n",
       "1 RK            13\n",
       "10 Bedroom      12\n",
       "9 BHK            8\n",
       "8 BHK            5\n",
       "11 BHK           2\n",
       "11 Bedroom       2\n",
       "10 BHK           2\n",
       "14 BHK           1\n",
       "13 BHK           1\n",
       "12 Bedroom       1\n",
       "27 BHK           1\n",
       "43 Bedroom       1\n",
       "16 BHK           1\n",
       "19 BHK           1\n",
       "18 Bedroom       1\n",
       "Name: size, dtype: int64"
      ]
     },
     "execution_count": 10,
     "metadata": {},
     "output_type": "execute_result"
    }
   ],
   "source": [
    "data['size'].value_counts()"
   ]
  },
  {
   "cell_type": "code",
   "execution_count": 11,
   "id": "a44451a4",
   "metadata": {},
   "outputs": [],
   "source": [
    "data['size']=data['size'].fillna('2 BHK')"
   ]
  },
  {
   "cell_type": "code",
   "execution_count": 12,
   "id": "e1a566d4",
   "metadata": {},
   "outputs": [],
   "source": [
    "data['bath']=data['bath'].fillna(data['bath'].median())"
   ]
  },
  {
   "cell_type": "code",
   "execution_count": 13,
   "id": "faf37c6b",
   "metadata": {},
   "outputs": [],
   "source": [
    "data['BHK']=data['size'].str.split().str.get(0).astype(int)"
   ]
  },
  {
   "cell_type": "code",
   "execution_count": 14,
   "id": "e513e0ba",
   "metadata": {},
   "outputs": [],
   "source": [
    "data.drop(data[data['BHK']>10].index,inplace=True)"
   ]
  },
  {
   "cell_type": "code",
   "execution_count": 15,
   "id": "c4736f67",
   "metadata": {},
   "outputs": [
    {
     "data": {
      "text/html": [
       "<div>\n",
       "<style scoped>\n",
       "    .dataframe tbody tr th:only-of-type {\n",
       "        vertical-align: middle;\n",
       "    }\n",
       "\n",
       "    .dataframe tbody tr th {\n",
       "        vertical-align: top;\n",
       "    }\n",
       "\n",
       "    .dataframe thead th {\n",
       "        text-align: right;\n",
       "    }\n",
       "</style>\n",
       "<table border=\"1\" class=\"dataframe\">\n",
       "  <thead>\n",
       "    <tr style=\"text-align: right;\">\n",
       "      <th></th>\n",
       "      <th>area_type</th>\n",
       "      <th>location</th>\n",
       "      <th>size</th>\n",
       "      <th>total_sqft</th>\n",
       "      <th>bath</th>\n",
       "      <th>price</th>\n",
       "      <th>BHK</th>\n",
       "    </tr>\n",
       "  </thead>\n",
       "  <tbody>\n",
       "    <tr>\n",
       "      <th>0</th>\n",
       "      <td>Super built-up  Area</td>\n",
       "      <td>Electronic City Phase II</td>\n",
       "      <td>2 BHK</td>\n",
       "      <td>1056</td>\n",
       "      <td>2.0</td>\n",
       "      <td>39.07</td>\n",
       "      <td>2</td>\n",
       "    </tr>\n",
       "    <tr>\n",
       "      <th>1</th>\n",
       "      <td>Plot  Area</td>\n",
       "      <td>Chikka Tirupathi</td>\n",
       "      <td>4 Bedroom</td>\n",
       "      <td>2600</td>\n",
       "      <td>5.0</td>\n",
       "      <td>120.00</td>\n",
       "      <td>4</td>\n",
       "    </tr>\n",
       "    <tr>\n",
       "      <th>2</th>\n",
       "      <td>Built-up  Area</td>\n",
       "      <td>Uttarahalli</td>\n",
       "      <td>3 BHK</td>\n",
       "      <td>1440</td>\n",
       "      <td>2.0</td>\n",
       "      <td>62.00</td>\n",
       "      <td>3</td>\n",
       "    </tr>\n",
       "  </tbody>\n",
       "</table>\n",
       "</div>"
      ],
      "text/plain": [
       "              area_type                  location       size total_sqft  bath  \\\n",
       "0  Super built-up  Area  Electronic City Phase II      2 BHK       1056   2.0   \n",
       "1            Plot  Area          Chikka Tirupathi  4 Bedroom       2600   5.0   \n",
       "2        Built-up  Area               Uttarahalli      3 BHK       1440   2.0   \n",
       "\n",
       "    price  BHK  \n",
       "0   39.07    2  \n",
       "1  120.00    4  \n",
       "2   62.00    3  "
      ]
     },
     "execution_count": 15,
     "metadata": {},
     "output_type": "execute_result"
    }
   ],
   "source": [
    "data.head(3)"
   ]
  },
  {
   "cell_type": "code",
   "execution_count": 16,
   "id": "61c68e74",
   "metadata": {},
   "outputs": [
    {
     "data": {
      "text/plain": [
       "array(['1056', '2600', '1440', ..., '1133 - 1384', '774', '4689'],\n",
       "      dtype=object)"
      ]
     },
     "execution_count": 16,
     "metadata": {},
     "output_type": "execute_result"
    }
   ],
   "source": [
    "data['total_sqft'].unique()"
   ]
  },
  {
   "cell_type": "code",
   "execution_count": 17,
   "id": "baf4a363",
   "metadata": {},
   "outputs": [],
   "source": [
    "def convertRan(x):\n",
    "    temp = x.split('-')\n",
    "    if len(temp)==2:\n",
    "        return(float(temp[0])+float(temp[1]))/2\n",
    "    try:\n",
    "        return float(x)\n",
    "    except:\n",
    "        return None"
   ]
  },
  {
   "cell_type": "code",
   "execution_count": 18,
   "id": "f47ee447",
   "metadata": {},
   "outputs": [],
   "source": [
    "data['total_sqft']=data['total_sqft'].apply(convertRan)"
   ]
  },
  {
   "cell_type": "code",
   "execution_count": 19,
   "id": "a9b26deb",
   "metadata": {},
   "outputs": [],
   "source": [
    "data.drop(['size'],inplace=True,axis=True)"
   ]
  },
  {
   "cell_type": "code",
   "execution_count": 20,
   "id": "15adbeb1",
   "metadata": {},
   "outputs": [
    {
     "data": {
      "text/html": [
       "<div>\n",
       "<style scoped>\n",
       "    .dataframe tbody tr th:only-of-type {\n",
       "        vertical-align: middle;\n",
       "    }\n",
       "\n",
       "    .dataframe tbody tr th {\n",
       "        vertical-align: top;\n",
       "    }\n",
       "\n",
       "    .dataframe thead th {\n",
       "        text-align: right;\n",
       "    }\n",
       "</style>\n",
       "<table border=\"1\" class=\"dataframe\">\n",
       "  <thead>\n",
       "    <tr style=\"text-align: right;\">\n",
       "      <th></th>\n",
       "      <th>area_type</th>\n",
       "      <th>location</th>\n",
       "      <th>total_sqft</th>\n",
       "      <th>bath</th>\n",
       "      <th>price</th>\n",
       "      <th>BHK</th>\n",
       "    </tr>\n",
       "  </thead>\n",
       "  <tbody>\n",
       "    <tr>\n",
       "      <th>0</th>\n",
       "      <td>Super built-up  Area</td>\n",
       "      <td>Electronic City Phase II</td>\n",
       "      <td>1056.0</td>\n",
       "      <td>2.0</td>\n",
       "      <td>39.07</td>\n",
       "      <td>2</td>\n",
       "    </tr>\n",
       "    <tr>\n",
       "      <th>1</th>\n",
       "      <td>Plot  Area</td>\n",
       "      <td>Chikka Tirupathi</td>\n",
       "      <td>2600.0</td>\n",
       "      <td>5.0</td>\n",
       "      <td>120.00</td>\n",
       "      <td>4</td>\n",
       "    </tr>\n",
       "    <tr>\n",
       "      <th>2</th>\n",
       "      <td>Built-up  Area</td>\n",
       "      <td>Uttarahalli</td>\n",
       "      <td>1440.0</td>\n",
       "      <td>2.0</td>\n",
       "      <td>62.00</td>\n",
       "      <td>3</td>\n",
       "    </tr>\n",
       "  </tbody>\n",
       "</table>\n",
       "</div>"
      ],
      "text/plain": [
       "              area_type                  location  total_sqft  bath   price  \\\n",
       "0  Super built-up  Area  Electronic City Phase II      1056.0   2.0   39.07   \n",
       "1            Plot  Area          Chikka Tirupathi      2600.0   5.0  120.00   \n",
       "2        Built-up  Area               Uttarahalli      1440.0   2.0   62.00   \n",
       "\n",
       "   BHK  \n",
       "0    2  \n",
       "1    4  \n",
       "2    3  "
      ]
     },
     "execution_count": 20,
     "metadata": {},
     "output_type": "execute_result"
    }
   ],
   "source": [
    "data.head(3)"
   ]
  },
  {
   "cell_type": "markdown",
   "id": "4c16ad8e",
   "metadata": {},
   "source": [
    "## price per square feet"
   ]
  },
  {
   "cell_type": "code",
   "execution_count": 21,
   "id": "dae22e73",
   "metadata": {},
   "outputs": [],
   "source": [
    "data['price_per_sqft']=(data['price']*100000)/data['total_sqft']"
   ]
  },
  {
   "cell_type": "code",
   "execution_count": 22,
   "id": "da6d3bbd",
   "metadata": {},
   "outputs": [
    {
     "data": {
      "text/plain": [
       "0         3699.810606\n",
       "1         4615.384615\n",
       "2         4305.555556\n",
       "3         6245.890861\n",
       "4         4250.000000\n",
       "             ...     \n",
       "13315     6689.834926\n",
       "13316    11111.111111\n",
       "13317     5258.545136\n",
       "13318    10407.336319\n",
       "13319     3090.909091\n",
       "Name: price_per_sqft, Length: 13308, dtype: float64"
      ]
     },
     "execution_count": 22,
     "metadata": {},
     "output_type": "execute_result"
    }
   ],
   "source": [
    "data['price_per_sqft']"
   ]
  },
  {
   "cell_type": "code",
   "execution_count": 23,
   "id": "f34b8d66",
   "metadata": {},
   "outputs": [
    {
     "data": {
      "text/html": [
       "<div>\n",
       "<style scoped>\n",
       "    .dataframe tbody tr th:only-of-type {\n",
       "        vertical-align: middle;\n",
       "    }\n",
       "\n",
       "    .dataframe tbody tr th {\n",
       "        vertical-align: top;\n",
       "    }\n",
       "\n",
       "    .dataframe thead th {\n",
       "        text-align: right;\n",
       "    }\n",
       "</style>\n",
       "<table border=\"1\" class=\"dataframe\">\n",
       "  <thead>\n",
       "    <tr style=\"text-align: right;\">\n",
       "      <th></th>\n",
       "      <th>total_sqft</th>\n",
       "      <th>bath</th>\n",
       "      <th>price</th>\n",
       "      <th>BHK</th>\n",
       "      <th>price_per_sqft</th>\n",
       "    </tr>\n",
       "  </thead>\n",
       "  <tbody>\n",
       "    <tr>\n",
       "      <th>count</th>\n",
       "      <td>13262.000000</td>\n",
       "      <td>13308.000000</td>\n",
       "      <td>13308.000000</td>\n",
       "      <td>13308.000000</td>\n",
       "      <td>1.326200e+04</td>\n",
       "    </tr>\n",
       "    <tr>\n",
       "      <th>mean</th>\n",
       "      <td>1557.576364</td>\n",
       "      <td>2.677036</td>\n",
       "      <td>112.392106</td>\n",
       "      <td>2.789826</td>\n",
       "      <td>7.903955e+03</td>\n",
       "    </tr>\n",
       "    <tr>\n",
       "      <th>std</th>\n",
       "      <td>1234.052941</td>\n",
       "      <td>1.250893</td>\n",
       "      <td>148.840961</td>\n",
       "      <td>1.190666</td>\n",
       "      <td>1.064774e+05</td>\n",
       "    </tr>\n",
       "    <tr>\n",
       "      <th>min</th>\n",
       "      <td>1.000000</td>\n",
       "      <td>1.000000</td>\n",
       "      <td>8.000000</td>\n",
       "      <td>1.000000</td>\n",
       "      <td>2.678298e+02</td>\n",
       "    </tr>\n",
       "    <tr>\n",
       "      <th>25%</th>\n",
       "      <td>1100.000000</td>\n",
       "      <td>2.000000</td>\n",
       "      <td>50.000000</td>\n",
       "      <td>2.000000</td>\n",
       "      <td>4.266667e+03</td>\n",
       "    </tr>\n",
       "    <tr>\n",
       "      <th>50%</th>\n",
       "      <td>1276.000000</td>\n",
       "      <td>2.000000</td>\n",
       "      <td>72.000000</td>\n",
       "      <td>3.000000</td>\n",
       "      <td>5.431469e+03</td>\n",
       "    </tr>\n",
       "    <tr>\n",
       "      <th>75%</th>\n",
       "      <td>1680.000000</td>\n",
       "      <td>3.000000</td>\n",
       "      <td>120.000000</td>\n",
       "      <td>3.000000</td>\n",
       "      <td>7.308274e+03</td>\n",
       "    </tr>\n",
       "    <tr>\n",
       "      <th>max</th>\n",
       "      <td>52272.000000</td>\n",
       "      <td>14.000000</td>\n",
       "      <td>3600.000000</td>\n",
       "      <td>10.000000</td>\n",
       "      <td>1.200000e+07</td>\n",
       "    </tr>\n",
       "  </tbody>\n",
       "</table>\n",
       "</div>"
      ],
      "text/plain": [
       "         total_sqft          bath         price           BHK  price_per_sqft\n",
       "count  13262.000000  13308.000000  13308.000000  13308.000000    1.326200e+04\n",
       "mean    1557.576364      2.677036    112.392106      2.789826    7.903955e+03\n",
       "std     1234.052941      1.250893    148.840961      1.190666    1.064774e+05\n",
       "min        1.000000      1.000000      8.000000      1.000000    2.678298e+02\n",
       "25%     1100.000000      2.000000     50.000000      2.000000    4.266667e+03\n",
       "50%     1276.000000      2.000000     72.000000      3.000000    5.431469e+03\n",
       "75%     1680.000000      3.000000    120.000000      3.000000    7.308274e+03\n",
       "max    52272.000000     14.000000   3600.000000     10.000000    1.200000e+07"
      ]
     },
     "execution_count": 23,
     "metadata": {},
     "output_type": "execute_result"
    }
   ],
   "source": [
    "data.describe()"
   ]
  },
  {
   "cell_type": "code",
   "execution_count": 24,
   "id": "4cc9235c",
   "metadata": {},
   "outputs": [],
   "source": [
    "data['location']=data['location'].apply(lambda x: x.strip())\n",
    "location_count = data['location'].value_counts()"
   ]
  },
  {
   "cell_type": "code",
   "execution_count": 25,
   "id": "72e13e0b",
   "metadata": {},
   "outputs": [
    {
     "data": {
      "text/plain": [
       "Whitefield                 541\n",
       "Sarjapur  Road             400\n",
       "Electronic City            304\n",
       "Kanakpura Road             273\n",
       "Thanisandra                237\n",
       "                          ... \n",
       "Brigade Road                 1\n",
       "Nagarbhavi  BDA Complex      1\n",
       "Rajanna Layout               1\n",
       "Maruthi HBCS Layout          1\n",
       "Abshot Layout                1\n",
       "Name: location, Length: 1285, dtype: int64"
      ]
     },
     "execution_count": 25,
     "metadata": {},
     "output_type": "execute_result"
    }
   ],
   "source": [
    "location_count"
   ]
  },
  {
   "cell_type": "code",
   "execution_count": 26,
   "id": "b12da86d",
   "metadata": {},
   "outputs": [
    {
     "data": {
      "text/plain": [
       "Nagappa Reddy Layout       10\n",
       "1st Block Koramangala      10\n",
       "Gunjur Palya               10\n",
       "Naganathapura              10\n",
       "BTM 1st Stage              10\n",
       "                           ..\n",
       "Brigade Road                1\n",
       "Nagarbhavi  BDA Complex     1\n",
       "Rajanna Layout              1\n",
       "Maruthi HBCS Layout         1\n",
       "Abshot Layout               1\n",
       "Name: location, Length: 1044, dtype: int64"
      ]
     },
     "execution_count": 26,
     "metadata": {},
     "output_type": "execute_result"
    }
   ],
   "source": [
    "location_count_less_10 = location_count[location_count<=10]\n",
    "location_count_less_10"
   ]
  },
  {
   "cell_type": "code",
   "execution_count": 27,
   "id": "dcffdd85",
   "metadata": {},
   "outputs": [],
   "source": [
    "data['location']=data['location'].apply(lambda x: 'other' if x in location_count_less_10 else x)"
   ]
  },
  {
   "cell_type": "code",
   "execution_count": 28,
   "id": "69d851b9",
   "metadata": {},
   "outputs": [
    {
     "data": {
      "text/plain": [
       "other                 2875\n",
       "Whitefield             541\n",
       "Sarjapur  Road         400\n",
       "Electronic City        304\n",
       "Kanakpura Road         273\n",
       "                      ... \n",
       "Nehru Nagar             11\n",
       "Banjara Layout          11\n",
       "LB Shastri Nagar        11\n",
       "Pattandur Agrahara      11\n",
       "Narayanapura            11\n",
       "Name: location, Length: 242, dtype: int64"
      ]
     },
     "execution_count": 28,
     "metadata": {},
     "output_type": "execute_result"
    }
   ],
   "source": [
    "data['location'].value_counts()"
   ]
  },
  {
   "cell_type": "code",
   "execution_count": 29,
   "id": "29719b60",
   "metadata": {},
   "outputs": [
    {
     "data": {
      "text/plain": [
       "count    13262.000000\n",
       "mean       575.364509\n",
       "std        388.216474\n",
       "min          0.250000\n",
       "25%        473.831250\n",
       "50%        552.500000\n",
       "75%        625.000000\n",
       "max      26136.000000\n",
       "dtype: float64"
      ]
     },
     "execution_count": 29,
     "metadata": {},
     "output_type": "execute_result"
    }
   ],
   "source": [
    "(data['total_sqft']/data['BHK']).describe()"
   ]
  },
  {
   "cell_type": "code",
   "execution_count": 30,
   "id": "8830ce6e",
   "metadata": {},
   "outputs": [],
   "source": [
    "data = data[((data['total_sqft']/data['BHK'])>=250)]"
   ]
  },
  {
   "cell_type": "code",
   "execution_count": 31,
   "id": "72e5737b",
   "metadata": {},
   "outputs": [
    {
     "data": {
      "text/html": [
       "<div>\n",
       "<style scoped>\n",
       "    .dataframe tbody tr th:only-of-type {\n",
       "        vertical-align: middle;\n",
       "    }\n",
       "\n",
       "    .dataframe tbody tr th {\n",
       "        vertical-align: top;\n",
       "    }\n",
       "\n",
       "    .dataframe thead th {\n",
       "        text-align: right;\n",
       "    }\n",
       "</style>\n",
       "<table border=\"1\" class=\"dataframe\">\n",
       "  <thead>\n",
       "    <tr style=\"text-align: right;\">\n",
       "      <th></th>\n",
       "      <th>total_sqft</th>\n",
       "      <th>bath</th>\n",
       "      <th>price</th>\n",
       "      <th>BHK</th>\n",
       "      <th>price_per_sqft</th>\n",
       "    </tr>\n",
       "  </thead>\n",
       "  <tbody>\n",
       "    <tr>\n",
       "      <th>count</th>\n",
       "      <td>12657.000000</td>\n",
       "      <td>12657.000000</td>\n",
       "      <td>12657.000000</td>\n",
       "      <td>12657.000000</td>\n",
       "      <td>12657.000000</td>\n",
       "    </tr>\n",
       "    <tr>\n",
       "      <th>mean</th>\n",
       "      <td>1587.761534</td>\n",
       "      <td>2.566169</td>\n",
       "      <td>111.466723</td>\n",
       "      <td>2.661926</td>\n",
       "      <td>6348.787388</td>\n",
       "    </tr>\n",
       "    <tr>\n",
       "      <th>std</th>\n",
       "      <td>1253.269023</td>\n",
       "      <td>1.079373</td>\n",
       "      <td>151.631908</td>\n",
       "      <td>0.981915</td>\n",
       "      <td>4204.530424</td>\n",
       "    </tr>\n",
       "    <tr>\n",
       "      <th>min</th>\n",
       "      <td>250.000000</td>\n",
       "      <td>1.000000</td>\n",
       "      <td>8.000000</td>\n",
       "      <td>1.000000</td>\n",
       "      <td>267.829813</td>\n",
       "    </tr>\n",
       "    <tr>\n",
       "      <th>25%</th>\n",
       "      <td>1114.000000</td>\n",
       "      <td>2.000000</td>\n",
       "      <td>49.000000</td>\n",
       "      <td>2.000000</td>\n",
       "      <td>4216.184288</td>\n",
       "    </tr>\n",
       "    <tr>\n",
       "      <th>50%</th>\n",
       "      <td>1300.000000</td>\n",
       "      <td>2.000000</td>\n",
       "      <td>70.000000</td>\n",
       "      <td>3.000000</td>\n",
       "      <td>5302.325581</td>\n",
       "    </tr>\n",
       "    <tr>\n",
       "      <th>75%</th>\n",
       "      <td>1700.000000</td>\n",
       "      <td>3.000000</td>\n",
       "      <td>116.000000</td>\n",
       "      <td>3.000000</td>\n",
       "      <td>6966.145833</td>\n",
       "    </tr>\n",
       "    <tr>\n",
       "      <th>max</th>\n",
       "      <td>52272.000000</td>\n",
       "      <td>14.000000</td>\n",
       "      <td>3600.000000</td>\n",
       "      <td>10.000000</td>\n",
       "      <td>176470.588235</td>\n",
       "    </tr>\n",
       "  </tbody>\n",
       "</table>\n",
       "</div>"
      ],
      "text/plain": [
       "         total_sqft          bath         price           BHK  price_per_sqft\n",
       "count  12657.000000  12657.000000  12657.000000  12657.000000    12657.000000\n",
       "mean    1587.761534      2.566169    111.466723      2.661926     6348.787388\n",
       "std     1253.269023      1.079373    151.631908      0.981915     4204.530424\n",
       "min      250.000000      1.000000      8.000000      1.000000      267.829813\n",
       "25%     1114.000000      2.000000     49.000000      2.000000     4216.184288\n",
       "50%     1300.000000      2.000000     70.000000      3.000000     5302.325581\n",
       "75%     1700.000000      3.000000    116.000000      3.000000     6966.145833\n",
       "max    52272.000000     14.000000   3600.000000     10.000000   176470.588235"
      ]
     },
     "execution_count": 31,
     "metadata": {},
     "output_type": "execute_result"
    }
   ],
   "source": [
    "data.describe()"
   ]
  },
  {
   "cell_type": "code",
   "execution_count": 32,
   "id": "0ae2fcc4",
   "metadata": {},
   "outputs": [
    {
     "data": {
      "text/html": [
       "<div>\n",
       "<style scoped>\n",
       "    .dataframe tbody tr th:only-of-type {\n",
       "        vertical-align: middle;\n",
       "    }\n",
       "\n",
       "    .dataframe tbody tr th {\n",
       "        vertical-align: top;\n",
       "    }\n",
       "\n",
       "    .dataframe thead th {\n",
       "        text-align: right;\n",
       "    }\n",
       "</style>\n",
       "<table border=\"1\" class=\"dataframe\">\n",
       "  <thead>\n",
       "    <tr style=\"text-align: right;\">\n",
       "      <th></th>\n",
       "      <th>total_sqft</th>\n",
       "      <th>bath</th>\n",
       "      <th>price</th>\n",
       "      <th>BHK</th>\n",
       "      <th>price_per_sqft</th>\n",
       "    </tr>\n",
       "  </thead>\n",
       "  <tbody>\n",
       "    <tr>\n",
       "      <th>count</th>\n",
       "      <td>10445.000000</td>\n",
       "      <td>10445.000000</td>\n",
       "      <td>10445.000000</td>\n",
       "      <td>10445.000000</td>\n",
       "      <td>10445.000000</td>\n",
       "    </tr>\n",
       "    <tr>\n",
       "      <th>mean</th>\n",
       "      <td>1503.855501</td>\n",
       "      <td>2.474294</td>\n",
       "      <td>91.311440</td>\n",
       "      <td>2.579703</td>\n",
       "      <td>5681.414076</td>\n",
       "    </tr>\n",
       "    <tr>\n",
       "      <th>std</th>\n",
       "      <td>872.233194</td>\n",
       "      <td>0.972346</td>\n",
       "      <td>86.030785</td>\n",
       "      <td>0.891194</td>\n",
       "      <td>2296.480216</td>\n",
       "    </tr>\n",
       "    <tr>\n",
       "      <th>min</th>\n",
       "      <td>284.000000</td>\n",
       "      <td>1.000000</td>\n",
       "      <td>8.000000</td>\n",
       "      <td>1.000000</td>\n",
       "      <td>1250.000000</td>\n",
       "    </tr>\n",
       "    <tr>\n",
       "      <th>25%</th>\n",
       "      <td>1105.000000</td>\n",
       "      <td>2.000000</td>\n",
       "      <td>49.000000</td>\n",
       "      <td>2.000000</td>\n",
       "      <td>4239.631336</td>\n",
       "    </tr>\n",
       "    <tr>\n",
       "      <th>50%</th>\n",
       "      <td>1285.000000</td>\n",
       "      <td>2.000000</td>\n",
       "      <td>67.000000</td>\n",
       "      <td>2.000000</td>\n",
       "      <td>5183.823529</td>\n",
       "    </tr>\n",
       "    <tr>\n",
       "      <th>75%</th>\n",
       "      <td>1650.000000</td>\n",
       "      <td>3.000000</td>\n",
       "      <td>100.000000</td>\n",
       "      <td>3.000000</td>\n",
       "      <td>6466.302368</td>\n",
       "    </tr>\n",
       "    <tr>\n",
       "      <th>max</th>\n",
       "      <td>30400.000000</td>\n",
       "      <td>12.000000</td>\n",
       "      <td>2200.000000</td>\n",
       "      <td>10.000000</td>\n",
       "      <td>24509.803922</td>\n",
       "    </tr>\n",
       "  </tbody>\n",
       "</table>\n",
       "</div>"
      ],
      "text/plain": [
       "         total_sqft          bath         price           BHK  price_per_sqft\n",
       "count  10445.000000  10445.000000  10445.000000  10445.000000    10445.000000\n",
       "mean    1503.855501      2.474294     91.311440      2.579703     5681.414076\n",
       "std      872.233194      0.972346     86.030785      0.891194     2296.480216\n",
       "min      284.000000      1.000000      8.000000      1.000000     1250.000000\n",
       "25%     1105.000000      2.000000     49.000000      2.000000     4239.631336\n",
       "50%     1285.000000      2.000000     67.000000      2.000000     5183.823529\n",
       "75%     1650.000000      3.000000    100.000000      3.000000     6466.302368\n",
       "max    30400.000000     12.000000   2200.000000     10.000000    24509.803922"
      ]
     },
     "execution_count": 32,
     "metadata": {},
     "output_type": "execute_result"
    }
   ],
   "source": [
    "def rmv_out_sqft(df):\n",
    "    df_output = pd.DataFrame()\n",
    "    for key,subdf in df.groupby('location'):\n",
    "        m = np.mean(subdf.price_per_sqft)\n",
    "        std = np.std(subdf.price_per_sqft)\n",
    "        \n",
    "        gen_df =subdf[(subdf.price_per_sqft>(m-std))&(subdf.price_per_sqft<(m+std))]\n",
    "        df_output = pd.concat([df_output,gen_df],ignore_index=True)\n",
    "    return df_output\n",
    "data = rmv_out_sqft(data)\n",
    "data.describe()"
   ]
  },
  {
   "cell_type": "code",
   "execution_count": 33,
   "id": "cbc03827",
   "metadata": {},
   "outputs": [
    {
     "data": {
      "text/plain": [
       "2     4813\n",
       "3     4074\n",
       "4      784\n",
       "1      533\n",
       "5      119\n",
       "6       67\n",
       "7       25\n",
       "8       17\n",
       "9       10\n",
       "10       3\n",
       "Name: BHK, dtype: int64"
      ]
     },
     "execution_count": 33,
     "metadata": {},
     "output_type": "execute_result"
    }
   ],
   "source": [
    "data['BHK'].value_counts()"
   ]
  },
  {
   "cell_type": "code",
   "execution_count": 34,
   "id": "7cfdcb86",
   "metadata": {},
   "outputs": [
    {
     "data": {
      "text/html": [
       "<div>\n",
       "<style scoped>\n",
       "    .dataframe tbody tr th:only-of-type {\n",
       "        vertical-align: middle;\n",
       "    }\n",
       "\n",
       "    .dataframe tbody tr th {\n",
       "        vertical-align: top;\n",
       "    }\n",
       "\n",
       "    .dataframe thead th {\n",
       "        text-align: right;\n",
       "    }\n",
       "</style>\n",
       "<table border=\"1\" class=\"dataframe\">\n",
       "  <thead>\n",
       "    <tr style=\"text-align: right;\">\n",
       "      <th></th>\n",
       "      <th>area_type</th>\n",
       "      <th>location</th>\n",
       "      <th>total_sqft</th>\n",
       "      <th>bath</th>\n",
       "      <th>price</th>\n",
       "      <th>BHK</th>\n",
       "      <th>price_per_sqft</th>\n",
       "    </tr>\n",
       "  </thead>\n",
       "  <tbody>\n",
       "    <tr>\n",
       "      <th>0</th>\n",
       "      <td>Super built-up  Area</td>\n",
       "      <td>1st Block Jayanagar</td>\n",
       "      <td>2850.0</td>\n",
       "      <td>4.0</td>\n",
       "      <td>428.0</td>\n",
       "      <td>4</td>\n",
       "      <td>15017.543860</td>\n",
       "    </tr>\n",
       "    <tr>\n",
       "      <th>1</th>\n",
       "      <td>Super built-up  Area</td>\n",
       "      <td>1st Block Jayanagar</td>\n",
       "      <td>1630.0</td>\n",
       "      <td>3.0</td>\n",
       "      <td>194.0</td>\n",
       "      <td>3</td>\n",
       "      <td>11901.840491</td>\n",
       "    </tr>\n",
       "    <tr>\n",
       "      <th>2</th>\n",
       "      <td>Super built-up  Area</td>\n",
       "      <td>1st Block Jayanagar</td>\n",
       "      <td>1875.0</td>\n",
       "      <td>2.0</td>\n",
       "      <td>235.0</td>\n",
       "      <td>3</td>\n",
       "      <td>12533.333333</td>\n",
       "    </tr>\n",
       "    <tr>\n",
       "      <th>3</th>\n",
       "      <td>Built-up  Area</td>\n",
       "      <td>1st Block Jayanagar</td>\n",
       "      <td>1200.0</td>\n",
       "      <td>2.0</td>\n",
       "      <td>130.0</td>\n",
       "      <td>3</td>\n",
       "      <td>10833.333333</td>\n",
       "    </tr>\n",
       "    <tr>\n",
       "      <th>4</th>\n",
       "      <td>Super built-up  Area</td>\n",
       "      <td>1st Block Jayanagar</td>\n",
       "      <td>1235.0</td>\n",
       "      <td>2.0</td>\n",
       "      <td>148.0</td>\n",
       "      <td>2</td>\n",
       "      <td>11983.805668</td>\n",
       "    </tr>\n",
       "  </tbody>\n",
       "</table>\n",
       "</div>"
      ],
      "text/plain": [
       "              area_type             location  total_sqft  bath  price  BHK  \\\n",
       "0  Super built-up  Area  1st Block Jayanagar      2850.0   4.0  428.0    4   \n",
       "1  Super built-up  Area  1st Block Jayanagar      1630.0   3.0  194.0    3   \n",
       "2  Super built-up  Area  1st Block Jayanagar      1875.0   2.0  235.0    3   \n",
       "3        Built-up  Area  1st Block Jayanagar      1200.0   2.0  130.0    3   \n",
       "4  Super built-up  Area  1st Block Jayanagar      1235.0   2.0  148.0    2   \n",
       "\n",
       "   price_per_sqft  \n",
       "0    15017.543860  \n",
       "1    11901.840491  \n",
       "2    12533.333333  \n",
       "3    10833.333333  \n",
       "4    11983.805668  "
      ]
     },
     "execution_count": 34,
     "metadata": {},
     "output_type": "execute_result"
    }
   ],
   "source": [
    "data.head()"
   ]
  },
  {
   "cell_type": "code",
   "execution_count": 35,
   "id": "18cd082e",
   "metadata": {},
   "outputs": [],
   "source": [
    "data.drop(columns = ['price_per_sqft'],inplace=True)"
   ]
  },
  {
   "cell_type": "code",
   "execution_count": 36,
   "id": "b6ec809e",
   "metadata": {},
   "outputs": [
    {
     "data": {
      "text/html": [
       "<div>\n",
       "<style scoped>\n",
       "    .dataframe tbody tr th:only-of-type {\n",
       "        vertical-align: middle;\n",
       "    }\n",
       "\n",
       "    .dataframe tbody tr th {\n",
       "        vertical-align: top;\n",
       "    }\n",
       "\n",
       "    .dataframe thead th {\n",
       "        text-align: right;\n",
       "    }\n",
       "</style>\n",
       "<table border=\"1\" class=\"dataframe\">\n",
       "  <thead>\n",
       "    <tr style=\"text-align: right;\">\n",
       "      <th></th>\n",
       "      <th>area_type</th>\n",
       "      <th>location</th>\n",
       "      <th>total_sqft</th>\n",
       "      <th>bath</th>\n",
       "      <th>price</th>\n",
       "      <th>BHK</th>\n",
       "    </tr>\n",
       "  </thead>\n",
       "  <tbody>\n",
       "    <tr>\n",
       "      <th>0</th>\n",
       "      <td>Super built-up  Area</td>\n",
       "      <td>1st Block Jayanagar</td>\n",
       "      <td>2850.0</td>\n",
       "      <td>4.0</td>\n",
       "      <td>428.0</td>\n",
       "      <td>4</td>\n",
       "    </tr>\n",
       "    <tr>\n",
       "      <th>1</th>\n",
       "      <td>Super built-up  Area</td>\n",
       "      <td>1st Block Jayanagar</td>\n",
       "      <td>1630.0</td>\n",
       "      <td>3.0</td>\n",
       "      <td>194.0</td>\n",
       "      <td>3</td>\n",
       "    </tr>\n",
       "    <tr>\n",
       "      <th>2</th>\n",
       "      <td>Super built-up  Area</td>\n",
       "      <td>1st Block Jayanagar</td>\n",
       "      <td>1875.0</td>\n",
       "      <td>2.0</td>\n",
       "      <td>235.0</td>\n",
       "      <td>3</td>\n",
       "    </tr>\n",
       "    <tr>\n",
       "      <th>3</th>\n",
       "      <td>Built-up  Area</td>\n",
       "      <td>1st Block Jayanagar</td>\n",
       "      <td>1200.0</td>\n",
       "      <td>2.0</td>\n",
       "      <td>130.0</td>\n",
       "      <td>3</td>\n",
       "    </tr>\n",
       "    <tr>\n",
       "      <th>4</th>\n",
       "      <td>Super built-up  Area</td>\n",
       "      <td>1st Block Jayanagar</td>\n",
       "      <td>1235.0</td>\n",
       "      <td>2.0</td>\n",
       "      <td>148.0</td>\n",
       "      <td>2</td>\n",
       "    </tr>\n",
       "  </tbody>\n",
       "</table>\n",
       "</div>"
      ],
      "text/plain": [
       "              area_type             location  total_sqft  bath  price  BHK\n",
       "0  Super built-up  Area  1st Block Jayanagar      2850.0   4.0  428.0    4\n",
       "1  Super built-up  Area  1st Block Jayanagar      1630.0   3.0  194.0    3\n",
       "2  Super built-up  Area  1st Block Jayanagar      1875.0   2.0  235.0    3\n",
       "3        Built-up  Area  1st Block Jayanagar      1200.0   2.0  130.0    3\n",
       "4  Super built-up  Area  1st Block Jayanagar      1235.0   2.0  148.0    2"
      ]
     },
     "execution_count": 36,
     "metadata": {},
     "output_type": "execute_result"
    }
   ],
   "source": [
    "data.head()"
   ]
  },
  {
   "cell_type": "code",
   "execution_count": 37,
   "id": "34d3114b",
   "metadata": {},
   "outputs": [],
   "source": [
    "data.to_csv(\"Cleanded_data1.csv\")"
   ]
  },
  {
   "cell_type": "code",
   "execution_count": 38,
   "id": "a1cff9d4",
   "metadata": {},
   "outputs": [],
   "source": [
    "from sklearn.model_selection import train_test_split\n",
    "from sklearn.linear_model import LinearRegression,Lasso,Ridge\n",
    "from sklearn.tree import DecisionTreeRegressor\n",
    "from sklearn.ensemble import RandomForestRegressor\n",
    "from sklearn.neighbors import KNeighborsRegressor\n",
    "from sklearn.svm import SVR\n",
    "from sklearn.preprocessing import OneHotEncoder,StandardScaler,LabelEncoder\n",
    "from sklearn.pipeline import make_pipeline\n",
    "from sklearn.compose import make_column_transformer\n",
    "from sklearn.metrics import r2_score,mean_squared_error"
   ]
  },
  {
   "cell_type": "code",
   "execution_count": 39,
   "id": "d2fb0190",
   "metadata": {},
   "outputs": [],
   "source": [
    "# Encode categorical columns\n",
    "encoder = LabelEncoder()\n",
    "data['area_type'] = encoder.fit_transform(data['area_type'])\n",
    "data['location'] = encoder.fit_transform(data['location'])"
   ]
  },
  {
   "cell_type": "code",
   "execution_count": null,
   "id": "257c2d2a",
   "metadata": {},
   "outputs": [],
   "source": []
  },
  {
   "cell_type": "code",
   "execution_count": 40,
   "id": "ffb524a6",
   "metadata": {},
   "outputs": [],
   "source": [
    "# Split data into features and target\n",
    "X = data.drop(['price'], axis=1)\n",
    "y = data['price']"
   ]
  },
  {
   "cell_type": "code",
   "execution_count": 41,
   "id": "92b69fd5",
   "metadata": {},
   "outputs": [],
   "source": [
    "# Split the dataset into training and testing sets\n",
    "X_train, X_test, y_train, y_test = train_test_split(X, y, test_size=0.2, random_state=42)"
   ]
  },
  {
   "cell_type": "code",
   "execution_count": null,
   "id": "a2e26331",
   "metadata": {},
   "outputs": [],
   "source": []
  },
  {
   "cell_type": "code",
   "execution_count": 42,
   "id": "4622bb30",
   "metadata": {},
   "outputs": [],
   "source": [
    "# Standardize features\n",
    "scaler = StandardScaler()\n",
    "X_train = scaler.fit_transform(X_train)\n",
    "X_test = scaler.transform(X_test)"
   ]
  },
  {
   "cell_type": "markdown",
   "id": "ca3c152d",
   "metadata": {},
   "source": [
    "## Linear Regression"
   ]
  },
  {
   "cell_type": "code",
   "execution_count": 43,
   "id": "c4421465",
   "metadata": {},
   "outputs": [
    {
     "name": "stdout",
     "output_type": "stream",
     "text": [
      "Linear Regression - MSE: 2861.10, R^2: 0.65\n",
      "2861.095025899307\n",
      "0.6450154934893761\n"
     ]
    }
   ],
   "source": [
    "# Linear Regression\n",
    "lr = LinearRegression()\n",
    "lr.fit(X_train, y_train)\n",
    "lr_pred = lr.predict(X_test)\n",
    "lr_mse = mean_squared_error(y_test, lr_pred)\n",
    "lr_r2 = r2_score(y_test, lr_pred)\n",
    "print(\"Linear Regression - MSE: {:.2f}, R^2: {:.2f}\".format(lr_mse, lr_r2))\n",
    "print(lr_mse)\n",
    "print(lr_r2)"
   ]
  },
  {
   "cell_type": "markdown",
   "id": "07a5005b",
   "metadata": {},
   "source": [
    "### Lasso Regression"
   ]
  },
  {
   "cell_type": "code",
   "execution_count": 44,
   "id": "83700300",
   "metadata": {},
   "outputs": [
    {
     "name": "stdout",
     "output_type": "stream",
     "text": [
      "2881.475583130323\n",
      "0.64248681758537\n"
     ]
    }
   ],
   "source": [
    "lasso = Lasso()\n",
    "lasso.fit(X_train, y_train)\n",
    "lasso_pred = lasso.predict(X_test)\n",
    "lasso_mse = mean_squared_error(y_test, lasso_pred)\n",
    "lasso_r2 = r2_score(y_test, lasso_pred)\n",
    "print(lasso_mse)\n",
    "print(lasso_r2)"
   ]
  },
  {
   "cell_type": "markdown",
   "id": "a92647ba",
   "metadata": {},
   "source": [
    "### Ridge Regression"
   ]
  },
  {
   "cell_type": "code",
   "execution_count": 45,
   "id": "646cbd13",
   "metadata": {},
   "outputs": [
    {
     "name": "stdout",
     "output_type": "stream",
     "text": [
      "2861.2440002765998\n",
      "0.6449970097985769\n"
     ]
    }
   ],
   "source": [
    "ridge = Ridge()\n",
    "ridge.fit(X_train, y_train)\n",
    "ridge_pred = ridge.predict(X_test)\n",
    "ridge_mse = mean_squared_error(y_test, ridge_pred)\n",
    "ridge_r2 = r2_score(y_test, ridge_pred)\n",
    "print(ridge_mse)\n",
    "print(ridge_r2)"
   ]
  },
  {
   "cell_type": "markdown",
   "id": "13f788bc",
   "metadata": {},
   "source": [
    "## Decision Tree"
   ]
  },
  {
   "cell_type": "code",
   "execution_count": 46,
   "id": "d9828703",
   "metadata": {},
   "outputs": [
    {
     "name": "stdout",
     "output_type": "stream",
     "text": [
      "Decision Tree Regression - MSE: 3982.10, R^2: 0.51\n",
      "3982.099456946227\n",
      "0.5059291642520827\n"
     ]
    }
   ],
   "source": [
    "# Decision Tree Regression\n",
    "dt = DecisionTreeRegressor(random_state=42)\n",
    "dt.fit(X_train, y_train)\n",
    "dt_pred = dt.predict(X_test)\n",
    "dt_mse = mean_squared_error(y_test, dt_pred)\n",
    "dt_r2 = r2_score(y_test, dt_pred)\n",
    "print(\"Decision Tree Regression - MSE: {:.2f}, R^2: {:.2f}\".format(dt_mse, dt_r2))\n",
    "print(dt_mse)\n",
    "print(dt_r2)"
   ]
  },
  {
   "cell_type": "code",
   "execution_count": null,
   "id": "6362146d",
   "metadata": {},
   "outputs": [],
   "source": []
  },
  {
   "cell_type": "markdown",
   "id": "60118dd1",
   "metadata": {},
   "source": [
    "### Random Forest"
   ]
  },
  {
   "cell_type": "code",
   "execution_count": 47,
   "id": "cfa0e34a",
   "metadata": {},
   "outputs": [
    {
     "name": "stdout",
     "output_type": "stream",
     "text": [
      "Random Forest Regression - MSE: 2785.20, R^2: 0.65\n",
      "2785.198859756273\n",
      "0.6544321548866552\n"
     ]
    }
   ],
   "source": [
    "# Random Forest Regression\n",
    "# Random Forest Regression\n",
    "rf = RandomForestRegressor(random_state=30)\n",
    "rf.fit(X_train, y_train)\n",
    "rf_pred = rf.predict(X_test)\n",
    "rf_mse = mean_squared_error(y_test, rf_pred)\n",
    "rf_r2 = r2_score(y_test, rf_pred)\n",
    "print(\"Random Forest Regression - MSE: {:.2f}, R^2: {:.2f}\".format(rf_mse, rf_r2))\n",
    "print(rf_mse)\n",
    "print(rf_r2)"
   ]
  },
  {
   "cell_type": "code",
   "execution_count": null,
   "id": "ac3e1eb5",
   "metadata": {},
   "outputs": [],
   "source": []
  },
  {
   "cell_type": "markdown",
   "id": "b2692d8d",
   "metadata": {},
   "source": [
    "### K-Nearest Neighbors Regression"
   ]
  },
  {
   "cell_type": "code",
   "execution_count": 48,
   "id": "137f3ddd",
   "metadata": {},
   "outputs": [
    {
     "name": "stdout",
     "output_type": "stream",
     "text": [
      "K-Nearest Neighbors Regression - MSE: 3010.04, R^2: 0.63\n",
      "3010.0366543192913\n",
      "0.6265358659394531\n"
     ]
    }
   ],
   "source": [
    "# K-Nearest Neighbors Regression\n",
    "knn = KNeighborsRegressor()\n",
    "knn.fit(X_train, y_train)\n",
    "knn_pred = knn.predict(X_test)\n",
    "knn_mse = mean_squared_error(y_test, knn_pred)\n",
    "knn_r2 = r2_score(y_test, knn_pred)\n",
    "print(\"K-Nearest Neighbors Regression - MSE: {:.2f}, R^2: {:.2f}\".format(knn_mse, knn_r2))\n",
    "print(knn_mse)\n",
    "print(knn_r2)"
   ]
  },
  {
   "cell_type": "code",
   "execution_count": null,
   "id": "609fed59",
   "metadata": {},
   "outputs": [],
   "source": []
  },
  {
   "cell_type": "markdown",
   "id": "2c0478b0",
   "metadata": {},
   "source": [
    "### Support Vector Regression"
   ]
  },
  {
   "cell_type": "code",
   "execution_count": 49,
   "id": "7523e3f5",
   "metadata": {},
   "outputs": [
    {
     "name": "stdout",
     "output_type": "stream",
     "text": [
      "Support Vector Regression - MSE: 5095.72, R^2: 0.37\n",
      "5095.715576512485\n",
      "0.3677595246322847\n"
     ]
    }
   ],
   "source": [
    "# Support Vector Regression\n",
    "svr = SVR()\n",
    "svr.fit(X_train, y_train)\n",
    "svr_pred = svr.predict(X_test)\n",
    "svr_mse = mean_squared_error(y_test, svr_pred)\n",
    "svr_r2 = r2_score(y_test, svr_pred)\n",
    "print(\"Support Vector Regression - MSE: {:.2f}, R^2: {:.2f}\".format(svr_mse, svr_r2))\n",
    "print(svr_mse)\n",
    "print(svr_r2)"
   ]
  },
  {
   "cell_type": "code",
   "execution_count": null,
   "id": "9296f119",
   "metadata": {},
   "outputs": [],
   "source": []
  },
  {
   "cell_type": "code",
   "execution_count": 50,
   "id": "9c101189",
   "metadata": {},
   "outputs": [],
   "source": [
    "# Compare models visually\n",
    "models = ['Linear','Lasso','Ridge', 'Decision Tree', 'Random Forest', 'KNN', 'SVR']\n",
    "mse_scores = [lr_mse,lasso_mse,ridge_mse,dt_mse, rf_mse, knn_mse, svr_mse]\n",
    "r2_scores = [lr_r2,lasso_r2,ridge_r2, dt_r2, rf_r2, knn_r2, svr_r2]"
   ]
  },
  {
   "cell_type": "code",
   "execution_count": null,
   "id": "f45cd208",
   "metadata": {},
   "outputs": [],
   "source": []
  },
  {
   "cell_type": "code",
   "execution_count": 51,
   "id": "0362208e",
   "metadata": {
    "scrolled": true
   },
   "outputs": [
    {
     "data": {
      "text/plain": [
       "Text(0, 0.5, 'MSE')"
      ]
     },
     "execution_count": 51,
     "metadata": {},
     "output_type": "execute_result"
    },
    {
     "data": {
      "image/png": "[encoded data removed]",
      "text/plain": [
       "<Figure size 2500x2000 with 1 Axes>"
      ]
     },
     "metadata": {},
     "output_type": "display_data"
    }
   ],
   "source": [
    "plt.figure(figsize=(25, 20))\n",
    "plt.subplot(1, 2, 1)\n",
    "plt.bar(models, mse_scores, color='skyblue')\n",
    "plt.title('Mean Squared Error (MSE)')\n",
    "plt.ylabel('MSE')"
   ]
  },
  {
   "cell_type": "code",
   "execution_count": 52,
   "id": "9cbf8dfd",
   "metadata": {},
   "outputs": [
    {
     "data": {
      "text/plain": [
       "Text(0, 0.5, 'R^2')"
      ]
     },
     "execution_count": 52,
     "metadata": {},
     "output_type": "execute_result"
    },
    {
     "data": {
      "image/png": "[encoded data removed]",
      "text/plain": [
       "<Figure size 640x480 with 1 Axes>"
      ]
     },
     "metadata": {},
     "output_type": "display_data"
    }
   ],
   "source": [
    "\n",
    "plt.subplot(1, 2, 2)\n",
    "plt.bar(models, r2_scores, color='salmon')\n",
    "plt.title('R-squared (R^2)')\n",
    "plt.ylabel('R^2')"
   ]
  },
  {
   "cell_type": "code",
   "execution_count": 53,
   "id": "94b19328",
   "metadata": {},
   "outputs": [],
   "source": [
    "# Compare models visually\n",
    "models = ['Linear','Lasso','Ridge', 'Decision', 'Random', 'KNN', 'SVR']\n",
    "mse_scores = [lr_mse,lasso_mse,ridge_mse,dt_mse, rf_mse, knn_mse, svr_mse]\n",
    "r2_scores = [lr_r2,lasso_r2,ridge_r2, dt_r2, rf_r2, knn_r2, svr_r2]"
   ]
  },
  {
   "cell_type": "code",
   "execution_count": 54,
   "id": "11bf350c",
   "metadata": {},
   "outputs": [
    {
     "data": {
      "image/png": "[encoded data removed]",
      "text/plain": [
       "<Figure size 1000x500 with 2 Axes>"
      ]
     },
     "metadata": {},
     "output_type": "display_data"
    }
   ],
   "source": [
    "plt.figure(figsize=(10, 5))\n",
    "plt.subplot(1, 2, 1)\n",
    "plt.bar(models, mse_scores, color='skyblue')\n",
    "plt.title('Mean Squared Error (MSE)')\n",
    "plt.ylabel('MSE')\n",
    "\n",
    "plt.subplot(1, 2, 2)\n",
    "plt.bar(models, r2_scores, color='salmon')\n",
    "plt.title('R-squared (R^2)')\n",
    "plt.ylabel('R^2')\n",
    "\n",
    "plt.tight_layout()\n",
    "plt.show()\n"
   ]
  },
  {
   "cell_type": "code",
   "execution_count": 67,
   "id": "72e0cd72",
   "metadata": {},
   "outputs": [
    {
     "data": {
      "text/plain": [
       "['house_price_model.joblib']"
      ]
     },
     "execution_count": 67,
     "metadata": {},
     "output_type": "execute_result"
    }
   ],
   "source": [
    "import pickle\n",
    "# Save the best model (Random Forest) using pickle\n",
    "best_model = RandomForestRegressor(random_state=42)\n",
    "best_model.fit(X_train, y_train)\n",
    "\n",
    "# # Save the model to a file\n",
    "# with open('house_price_model.pkl', 'wb') as model_file:\n",
    "#     pickle.dump(best_model, model_file)\n",
    "\n",
    "import joblib\n",
    "\n",
    "# Save the model using joblib\n",
    "joblib.dump(best_model, 'house_price_model.joblib')"
   ]
  },
  {
   "cell_type": "code",
   "execution_count": 55,
   "id": "2fd062ce",
   "metadata": {},
   "outputs": [],
   "source": [
    "# Initialize variables to store the best random state and the corresponding R^2 score\n",
    "best_random_state = None\n",
    "best_r2_score = -float('inf')"
   ]
  },
  {
   "cell_type": "code",
   "execution_count": 56,
   "id": "37b2c005",
   "metadata": {},
   "outputs": [],
   "source": [
    "# Define the range of random states to try\n",
    "random_state_range = range(1, 101)  # You can adjust this range"
   ]
  },
  {
   "cell_type": "code",
   "execution_count": 57,
   "id": "b45ae6f4",
   "metadata": {},
   "outputs": [],
   "source": [
    "# Initialize lists to store R^2 scores for each model\n",
    "lr_r2_scores = []\n",
    "lasso_r2_scores = []\n",
    "ridge_r2_scores = []\n",
    "dt_r2_scores = []\n",
    "rf_r2_scores = []\n",
    "knn_r2_scores = []\n",
    "svr_r2_scores = []"
   ]
  },
  {
   "cell_type": "code",
   "execution_count": 58,
   "id": "bd138df2",
   "metadata": {},
   "outputs": [],
   "source": [
    "# # Specify the number of good random states to find\n",
    "# num_good_random_states = 10  # You can adjust this number"
   ]
  },
  {
   "cell_type": "code",
   "execution_count": 59,
   "id": "262117cf",
   "metadata": {},
   "outputs": [],
   "source": [
    "# # Initialize a counter for good random states\n",
    "# good_random_state_count = 0"
   ]
  },
  {
   "cell_type": "code",
   "execution_count": 60,
   "id": "ef9ff9cc",
   "metadata": {},
   "outputs": [],
   "source": [
    "# for random_state in random_state_range:\n",
    "#     # Split the dataset into training and testing sets with the current random state\n",
    "#     X_train, X_test, y_train, y_test = train_test_split(X, y, test_size=0.2, random_state=random_state)\n",
    "\n",
    "#     # Fit the models\n",
    "#     lr = LinearRegression()\n",
    "#     lr.fit(X_train, y_train)\n",
    "#     lr_pred = lr.predict(X_test)\n",
    "#     lr_r2 = r2_score(y_test, lr_pred)\n",
    "#     lr_r2_scores.append(lr_r2)\n",
    "    \n",
    "#     lasso = Lasso()\n",
    "#     lasso.fit(X_train, y_train)\n",
    "#     lasso_pred = lasso.predict(X_test)\n",
    "#     #lasso_mse = mean_squared_error(y_test, lasso_pred)\n",
    "#     lasso_r2 = r2_score(y_test, lasso_pred)\n",
    "#     lasso_r2_scores.append(lasso_r2)\n",
    "    \n",
    "#     ridge = Ridge()\n",
    "#     ridge.fit(X_train, y_train)\n",
    "#     ridge_pred = ridge.predict(X_test)\n",
    "#     #ridge_mse = mean_squared_error(y_test, ridge_pred)\n",
    "#     ridge_r2 = r2_score(y_test, ridge_pred)\n",
    "#     ridge_r2_scores.append(ridge_r2)\n",
    "\n",
    "#     dt = DecisionTreeRegressor(random_state=42)\n",
    "#     dt.fit(X_train, y_train)\n",
    "#     dt_pred = dt.predict(X_test)\n",
    "#     dt_r2 = r2_score(y_test, dt_pred)\n",
    "#     dt_r2_scores.append(dt_r2)\n",
    "\n",
    "#     rf = RandomForestRegressor(random_state=42)\n",
    "#     rf.fit(X_train, y_train)\n",
    "#     rf_pred = rf.predict(X_test)\n",
    "#     rf_r2 = r2_score(y_test, rf_pred)\n",
    "#     rf_r2_scores.append(rf_r2)\n",
    "\n",
    "#     knn = KNeighborsRegressor()\n",
    "#     knn.fit(X_train, y_train)\n",
    "#     knn_pred = knn.predict(X_test)\n",
    "#     knn_r2 = r2_score(y_test, knn_pred)\n",
    "#     knn_r2_scores.append(knn_r2)\n",
    "\n",
    "#     svr = SVR()\n",
    "#     svr.fit(X_train, y_train)\n",
    "#     svr_pred = svr.predict(X_test)\n",
    "#     svr_r2 = r2_score(y_test, svr_pred)\n",
    "#     svr_r2_scores.append(svr_r2)\n",
    "    \n",
    "#     # Check if the current random state gave a higher R^2 score\n",
    "#     if lr_r2 > best_r2_score:\n",
    "#         best_r2_score = lr_r2\n",
    "#         best_random_state = random_state\n",
    "\n",
    "#     # Check if the current random state is considered \"good\"\n",
    "#     if lr_r2 >= 0.8:  # You can adjust this threshold\n",
    "#         good_random_state_count += 1\n",
    "\n",
    "#     # Exit the loop if the desired number of good random states is found\n",
    "#     if good_random_state_count >= num_good_random_states:\n",
    "#         break"
   ]
  },
  {
   "cell_type": "code",
   "execution_count": 61,
   "id": "ffda476f",
   "metadata": {},
   "outputs": [],
   "source": [
    "# # Check if the current random state gave a higher R^2 score\n",
    "#     if lr_r2 > best_r2_score:\n",
    "#         best_r2_score = lr_r2\n",
    "#         best_random_state = random_state"
   ]
  },
  {
   "cell_type": "code",
   "execution_count": 62,
   "id": "c67f0357",
   "metadata": {},
   "outputs": [],
   "source": [
    "# # Print the best random state and corresponding R^2 score\n",
    "# print(f\"Best Random State: {best_random_state}\")\n",
    "# print(f\"Best R^2 Score: {best_r2_score:.2f}\")"
   ]
  },
  {
   "cell_type": "code",
   "execution_count": 64,
   "id": "47762117",
   "metadata": {},
   "outputs": [],
   "source": [
    "# # Plot R^2 scores for each model\n",
    "# plt.figure(figsize=(10, 5))\n",
    "# plt.plot(random_state_range, lr_r2_scores, label='Linear Regression', marker='o')\n",
    "# plt.plot(random_state_range, dt_r2_scores, label='Decision Tree', marker='o')\n",
    "# plt.plot(random_state_range, rf_r2_scores, label='Random Forest', marker='o')\n",
    "# plt.plot(random_state_range, knn_r2_scores, label='KNN', marker='o')\n",
    "# plt.plot(random_state_range, svr_r2_scores, label='SVR', marker='o')\n",
    "# plt.xlabel('Random State')\n",
    "# plt.ylabel('R^2 Score')\n",
    "# plt.legend()\n",
    "# plt.grid()\n",
    "# plt.show()"
   ]
  },
  {
   "cell_type": "code",
   "execution_count": null,
   "id": "e27ee0e7",
   "metadata": {},
   "outputs": [],
   "source": []
  },
  {
   "cell_type": "code",
   "execution_count": null,
   "id": "bbe93d57",
   "metadata": {},
   "outputs": [],
   "source": []
  },
  {
   "cell_type": "code",
   "execution_count": null,
   "id": "3ce67fe1",
   "metadata": {},
   "outputs": [],
   "source": []
  },
  {
   "cell_type": "code",
   "execution_count": null,
   "id": "ed7a47c7",
   "metadata": {},
   "outputs": [],
   "source": []
  },
  {
   "cell_type": "code",
   "execution_count": null,
   "id": "49ce3289",
   "metadata": {},
   "outputs": [],
   "source": [
    "# column_name = ['total_sqft','bath','price','BHK']"
   ]
  },
  {
   "cell_type": "code",
   "execution_count": null,
   "id": "12f3285a",
   "metadata": {},
   "outputs": [],
   "source": [
    "# for i, column in enumerate(column_name):\n",
    "#     plt.figure(figsize=(6, 4))\n",
    "#     plt.boxplot(data[column], vert=False, boxprops=dict())\n",
    "#     plt.title(f'Box Plot of {column}')\n",
    "#     plt.xlabel('Value')\n",
    "#     plt.show()"
   ]
  },
  {
   "cell_type": "code",
   "execution_count": null,
   "id": "fef0788a",
   "metadata": {},
   "outputs": [],
   "source": []
  },
  {
   "cell_type": "code",
   "execution_count": null,
   "id": "bdaaa247",
   "metadata": {},
   "outputs": [],
   "source": []
  }
 ],
 "metadata": {
  "kernelspec": {
   "display_name": "Python 3 (ipykernel)",
   "language": "python",
   "name": "python3"
  },
  "language_info": {
   "codemirror_mode": {
    "name": "ipython",
    "version": 3
   },
   "file_extension": ".py",
   "mimetype": "text/x-python",
   "name": "python",
   "nbconvert_exporter": "python",
   "pygments_lexer": "ipython3",
   "version": "3.10.9"
  }
 },
 "nbformat": 4,
 "nbformat_minor": 5
}
